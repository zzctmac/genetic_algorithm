{
 "cells": [
  {
   "cell_type": "markdown",
   "id": "loved-conflict",
   "metadata": {},
   "source": [
    "# Example: Maximizing a Function of One Variable\n",
    "## We pre-define a Function:\n",
    "$$f(x) = \\frac{-x^2}{10} + 3x $$\n",
    "\n",
    "## Then we show how to use genetic algorithm to find a integer maximum between 0 and 31."
   ]
  },
  {
   "cell_type": "code",
   "execution_count": 47,
   "id": "surrounded-scroll",
   "metadata": {},
   "outputs": [],
   "source": [
    "def b2n(bitmap):\n",
    "    num = 0\n",
    "    l_b = len(bitmap)\n",
    "    for i in range(l_b):\n",
    "        num = num | bitmap[l_b - i - 1] << i\n",
    "    return num\n",
    "def calc_fitness(bitmap):\n",
    "    num = b2n(bitmap)\n",
    "    return -(num*num)/10 + 3 * num"
   ]
  },
  {
   "cell_type": "code",
   "execution_count": 48,
   "id": "sexual-nicaragua",
   "metadata": {},
   "outputs": [],
   "source": [
    "import numpy as np\n",
    "def init_chromosomes(bit_num, total_num):\n",
    "    chromosomes = []\n",
    "    for i in range(total_num):\n",
    "        chromosomes.append(np.random.randint(0, 2, size=bit_num).tolist())\n",
    "    return chromosomes"
   ]
  },
  {
   "cell_type": "code",
   "execution_count": 49,
   "id": "mineral-arlington",
   "metadata": {},
   "outputs": [],
   "source": [
    "def calc_generation_fitness(generation):\n",
    "    fitness_group = []\n",
    "    for i in range(len(generation)):\n",
    "        fitness = calc_fitness(generation[i])\n",
    "        fitness_group.append(fitness)\n",
    "    probability_group = []\n",
    "    probability_pool = []\n",
    "    all_fitness = sum(fitness_group)\n",
    "    for i in range(len(generation)):\n",
    "        probability = fitness_group[i] / all_fitness\n",
    "        probability_group.append(probability)\n",
    "        probability_pool.extend([i for n in range(int(probability * 100))])\n",
    "    return fitness_group, probability_group, probability_pool\n",
    "fitness_group, probability_group, probability_pool = calc_generation_fitness(current_generation)"
   ]
  },
  {
   "cell_type": "code",
   "execution_count": 51,
   "id": "sound-annotation",
   "metadata": {},
   "outputs": [],
   "source": [
    "def cross_over(a, b):\n",
    "    l = len(a)\n",
    "    half = int(l / 2)\n",
    "    c = []\n",
    "    d = []\n",
    "    c.extend(a[0:half])\n",
    "    c.extend(b[half:l])\n",
    "    d.extend(b[0:half])\n",
    "    d.extend(a[half:l])\n",
    "    return c, d"
   ]
  },
  {
   "cell_type": "code",
   "execution_count": 68,
   "id": "several-point",
   "metadata": {},
   "outputs": [],
   "source": [
    "import random\n",
    "def create_next_generation(current_generation, probability_pool, mutate_rate=0.05):\n",
    "    total = len(current_generation)\n",
    "    pair_num = int(total/2)\n",
    "    pool_length = len(probability_pool)\n",
    "    next_generation = []\n",
    "    for i in range(pair_num):\n",
    "        randomIndex1 = probability_pool[random.randint(0, pool_length-1)]\n",
    "        parent1 = current_generation[randomIndex1]\n",
    "        randomIndex2 = probability_pool[random.randint(0, pool_length-1)]\n",
    "        while randomIndex1 == randomIndex2:\n",
    "            randomIndex2 = probability_pool[random.randint(0, pool_length-1)]\n",
    "        parent2 = current_generation[randomIndex2]\n",
    "        child1, child2 = cross_over(parent1, parent2)\n",
    "        for i in range(len(child1)):\n",
    "            if random.random() < mutate_rate:\n",
    "                child1[i] = child1[i]^1 \n",
    "            if random.random() < mutate_rate:\n",
    "                child2[i] = child2[i]^1 \n",
    "        #print(randomIndex1, randomIndex2, parent1, parent2, child1, child2)\n",
    "        next_generation.extend([child1, child2])\n",
    "    return next_generation\n",
    "#print(probability_pool)\n",
    "#next_generation = create_next_generation(current_generation, probability_pool)"
   ]
  },
  {
   "cell_type": "code",
   "execution_count": 122,
   "id": "equivalent-nutrition",
   "metadata": {},
   "outputs": [],
   "source": [
    "def get_current_max_fitness(current_generation):\n",
    "    max_fitness = calc_fitness(current_generation[0])\n",
    "    maximum = b2n(current_generation[0])\n",
    "    for i in range(1, len(current_generation)):\n",
    "        number, fitness =  b2n(current_generation[i]), calc_fitness(current_generation[i])\n",
    "        if fitness > max_fitness:\n",
    "            maximum = number\n",
    "            max_fitness = fitness\n",
    "    return maximum, max_fitness\n",
    "def get_maxium(train_times):\n",
    "    current_generation = init_chromosomes(5, 10)\n",
    "    print('begin with ', get_current_max_fitness(current_generation))\n",
    "    for i in range(train_times):\n",
    "        fitness_group, probability_group, probability_pool = calc_generation_fitness(current_generation)\n",
    "        current_generation = create_next_generation(current_generation, probability_pool)\n",
    "    maximum, max_fitness = get_current_max_fitness(current_generation)\n",
    "    print('end with ', (maximum, max_fitness))\n",
    "    return maximum, max_fitness"
   ]
  },
  {
   "cell_type": "code",
   "execution_count": 126,
   "id": "relative-teaching",
   "metadata": {},
   "outputs": [
    {
     "name": "stdout",
     "output_type": "stream",
     "text": [
      "begin with  (16, 22.4)\n",
      "end with  (15, 22.5)\n"
     ]
    }
   ],
   "source": [
    "maximum, max_fitness = get_maxium(1000)"
   ]
  }
 ],
 "metadata": {
  "kernelspec": {
   "display_name": "Python 3",
   "language": "python",
   "name": "python3"
  },
  "language_info": {
   "codemirror_mode": {
    "name": "ipython",
    "version": 3
   },
   "file_extension": ".py",
   "mimetype": "text/x-python",
   "name": "python",
   "nbconvert_exporter": "python",
   "pygments_lexer": "ipython3",
   "version": "3.6.12"
  }
 },
 "nbformat": 4,
 "nbformat_minor": 5
}
